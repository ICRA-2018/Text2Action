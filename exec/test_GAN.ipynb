{
 "cells": [
  {
   "cell_type": "code",
   "execution_count": 1,
   "metadata": {},
   "outputs": [],
   "source": [
    "import os\n",
    "import sys\n",
    "module_path = os.path.abspath(os.path.join('..'))\n",
    "if module_path not in sys.path:\n",
    "    sys.path.append(module_path)\n",
    "import model.struct_GAN as structure\n",
    "import model.tester_GAN as tester\n",
    "import numpy as np\n",
    "import scipy.io as scio\n",
    "import matplotlib\n",
    "import matplotlib.pyplot as plt\n",
    "from mpl_toolkits.mplot3d import Axes3D\n",
    "from util.my_functions import load_w2v, load_metadata"
   ]
  },
  {
   "cell_type": "code",
   "execution_count": 2,
   "metadata": {},
   "outputs": [
    {
     "name": "stdout",
     "output_type": "stream",
     "text": [
      "Start downloading preprocessed metadata\n",
      "Downloading 1k3FJOYslo7PU3U4TyM3VFuiIgpcxMEjZ into ../data/metadata.npz... Done.\n"
     ]
    }
   ],
   "source": [
    "metadata_path = '../data/metadata.npz'\n",
    "\n",
    "train_action, train_script, train_length, sentence_steps = load_metadata(metadata_path)\n",
    "\n",
    "init_pose = scio.loadmat('../data/mean_pose.mat')['mean_vector']"
   ]
  },
  {
   "cell_type": "code",
   "execution_count": 3,
   "metadata": {},
   "outputs": [
    {
     "name": "stdout",
     "output_type": "stream",
     "text": [
      "Start downloading Google Word2Vec data\n",
      "Downloading 0B7XkCwpI5KDYNlNUTTlSS21pQmM into ../data/GoogleNews-vectors-negative300.bin.gz... Done.\n"
     ]
    }
   ],
   "source": [
    "w2v_path = '../data/GoogleNews-vectors-negative300.bin'\n",
    "w2v_model = load_w2v(w2v_path)"
   ]
  },
  {
   "cell_type": "code",
   "execution_count": 4,
   "metadata": {},
   "outputs": [],
   "source": [
    "dim_sentence = w2v_model['woman'].shape[0]\n",
    "dim_char_enc = 300\n",
    "dim_gen = 300\n",
    "dim_dis = 300\n",
    "dim_random = 10\n",
    "\n",
    "action_steps = 100"
   ]
  },
  {
   "cell_type": "code",
   "execution_count": 5,
   "metadata": {},
   "outputs": [],
   "source": [
    "model = structure.GAN_model(sentence_steps=sentence_steps,\n",
    "                            action_steps=action_steps,\n",
    "                            dim_sentence=dim_sentence,\n",
    "                            dim_char_enc=dim_char_enc,\n",
    "                            dim_gen=dim_gen,\n",
    "                            dim_dis=dim_dis\n",
    "                            )\n",
    "\n",
    "test_module = tester.GAN_tester(model=model,                               \n",
    "                               init_pose=init_pose,\n",
    "                               sentence_steps=sentence_steps,\n",
    "                               dim_sentence=dim_sentence,\n",
    "                               dim_char_enc=dim_char_enc,\n",
    "                               dim_gen=dim_gen,\n",
    "                               dim_random=dim_random\n",
    "                               )"
   ]
  },
  {
   "cell_type": "code",
   "execution_count": 6,
   "metadata": {},
   "outputs": [],
   "source": [
    "test_script = 'a man is throwing something to the front'\n",
    "\n",
    "line = test_script\n",
    "line = line.lower()\n",
    "\n",
    "words = line.split()\n",
    "\n",
    "tmp_word_array = np.zeros((dim_sentence, len(words)))\n",
    "vocab_keys = w2v_model.vocab.keys()\n",
    "\n",
    "for word in words:\n",
    "    if word not in vocab_keys:\n",
    "        curr_emb_vec = np.zeros((dim_sentence, ))\n",
    "    else:\n",
    "        curr_emb_vec = w2v_model[word]\n",
    "    tmp_word_array[:, words.index(word)] = curr_emb_vec\n",
    "    \n",
    "test_script_array = np.zeros((1, dim_sentence, sentence_steps))\n",
    "test_script_length = np.zeros(1)\n",
    "\n",
    "test_script_length = tmp_word_array.shape[1]\n",
    "test_script_array[0, :, :test_script_length] = tmp_word_array\n",
    "test_script_length = np.expand_dims(test_script_length, axis=0)"
   ]
  },
  {
   "cell_type": "code",
   "execution_count": 7,
   "metadata": {},
   "outputs": [
    {
     "name": "stdout",
     "output_type": "stream",
     "text": [
      "INFO:tensorflow:Restoring parameters from ../gan_model/model.ckpt-350\n"
     ]
    }
   ],
   "source": [
    "model_dir = '../gan_model/model.ckpt-350'\n",
    "\n",
    "test_esti = test_module.test(test_script=test_script_array, \n",
    "                             test_script_len=test_script_length,\n",
    "                             model_dir=model_dir,\n",
    "                             random_seed=-1)\n",
    "# seed four"
   ]
  },
  {
   "cell_type": "code",
   "execution_count": 8,
   "metadata": {
    "code_folding": [
     7,
     10,
     13,
     16,
     19,
     22,
     23,
     25
    ]
   },
   "outputs": [],
   "source": [
    "plot_vec = np.squeeze(test_esti)\n",
    "plot_vec = np.reshape(plot_vec, [8, 3, -1])\n",
    "\n",
    "mean_len = [0.6, 0.7, 0.9, 0.9, 0.7, 0.9, 0.9]\n",
    "\n",
    "plot_pose = np.zeros(plot_vec.shape)\n",
    "plot_pose[1, :, :] = plot_vec[0, :, :];\n",
    "plot_pose[0, :, :] = plot_pose[1, :, :]+\\\n",
    "                     mean_len[0] * np.divide(plot_vec[1, :, :], \n",
    "                                             np.tile(np.linalg.norm(plot_vec[1, :, :], axis=0), (3, 1)))\n",
    "plot_pose[2, :, :] = plot_pose[1, :, :]+\\\n",
    "                     mean_len[1] * np.divide(plot_vec[2, :, :], \n",
    "                                             np.tile(np.linalg.norm(plot_vec[2, :, :], axis=0), (3, 1)))\n",
    "plot_pose[3, :, :] = plot_pose[2, :, :]+\\\n",
    "                     mean_len[2] * np.divide(plot_vec[3, :, :], \n",
    "                                             np.tile(np.linalg.norm(plot_vec[3, :, :], axis=0), (3, 1)))\n",
    "plot_pose[4, :, :] = plot_pose[3, :, :]+\\\n",
    "                     mean_len[3] * np.divide(plot_vec[4, :, :], \n",
    "                                             np.tile(np.linalg.norm(plot_vec[4, :, :], axis=0), (3, 1)))\n",
    "plot_pose[5, :, :] = plot_pose[1, :, :]+\\\n",
    "                     mean_len[4] * np.divide(plot_vec[5, :, :], \n",
    "                                             np.tile(np.linalg.norm(plot_vec[5, :, :], axis=0), (3, 1)))\n",
    "plot_pose[6, :, :] = plot_pose[5, :, :]+\\\n",
    "                     mean_len[5] * np.divide(plot_vec[6, :, :], \n",
    "                                             np.tile(np.linalg.norm(plot_vec[6, :, :], axis=0), (3, 1)))\n",
    "plot_pose[7, :, :] = plot_pose[6, :, :]+\\\n",
    "                     mean_len[6] * np.divide(plot_vec[7, :, :], \n",
    "                                             np.tile(np.linalg.norm(plot_vec[7, :, :], axis=0), (3, 1)))\n",
    "    "
   ]
  },
  {
   "cell_type": "code",
   "execution_count": 12,
   "metadata": {
    "code_folding": [
     8
    ]
   },
   "outputs": [
    {
     "data": {
      "image/png": "[encoded data removed]",
      "text/plain": [
       "<Figure size 432x288 with 1 Axes>"
      ]
     },
     "metadata": {
      "needs_background": "light"
     },
     "output_type": "display_data"
    }
   ],
   "source": [
    "%matplotlib inline\n",
    "fig = plt.figure()\n",
    "ax = fig.add_subplot(111, projection='3d')\n",
    "plt.ion()\n",
    "plt.axis('scaled')\n",
    "\n",
    "fig.show()\n",
    "fig.canvas.draw()\n",
    "\n",
    "for i in xrange(plot_pose.shape[2]):\n",
    "    ax.clear()\n",
    "\n",
    "    ax.plot(plot_pose[0:2, 0, i], plot_pose[0:2, 1, i], plot_pose[0:2, 2, i], c='black')\n",
    "    ax.plot(plot_pose[1:3, 0, i], plot_pose[1:3, 1, i], plot_pose[1:3, 2, i], c='black')\n",
    "    ax.plot(plot_pose[2:4, 0, i], plot_pose[2:4, 1, i], plot_pose[2:4, 2, i], c='black')\n",
    "    ax.plot(plot_pose[3:5, 0, i], plot_pose[3:5, 1, i], plot_pose[3:5, 2, i], c='black')\n",
    "    ax.plot(plot_pose[1:6:4, 0, i], plot_pose[1:6:4, 1, i], plot_pose[1:6:4, 2, i], c='black')\n",
    "    ax.plot(plot_pose[5:7, 0, i], plot_pose[5:7, 1, i], plot_pose[5:7, 2, i], c='black')\n",
    "    ax.plot(plot_pose[6:8, 0, i], plot_pose[6:8, 1, i], plot_pose[6:8, 2, i], c='black')\n",
    "\n",
    "    ax.scatter(plot_pose[:, 0, i], plot_pose[:, 1, i], plot_pose[:, 2, i], c='black')\n",
    "        \n",
    "    ax.set_xlim3d(-3, 3)\n",
    "    ax.set_ylim3d(-3, 3)\n",
    "    ax.set_zlim3d(-3, 3)\n",
    "    ax.view_init(15, 0.5*(i-plot_pose.shape[2]/2))\n",
    "\n",
    "    fig.canvas.draw()   "
   ]
  },
  {
   "cell_type": "code",
   "execution_count": 13,
   "metadata": {},
   "outputs": [],
   "source": [
    "scio.savemat(\"../result_GAN.mat\", {'esti': test_esti})"
   ]
  },
  {
   "cell_type": "code",
   "execution_count": null,
   "metadata": {},
   "outputs": [],
   "source": []
  }
 ],
 "metadata": {
  "kernelspec": {
   "display_name": "Python 2",
   "language": "python",
   "name": "python2"
  },
  "language_info": {
   "codemirror_mode": {
    "name": "ipython",
    "version": 2
   },
   "file_extension": ".py",
   "mimetype": "text/x-python",
   "name": "python",
   "nbconvert_exporter": "python",
   "pygments_lexer": "ipython2",
   "version": "2.7.12"
  },
  "varInspector": {
   "cols": {
    "lenName": 16,
    "lenType": 16,
    "lenVar": 40
   },
   "kernels_config": {
    "python": {
     "delete_cmd_postfix": "",
     "delete_cmd_prefix": "del ",
     "library": "var_list.py",
     "varRefreshCmd": "print(var_dic_list())"
    },
    "r": {
     "delete_cmd_postfix": ") ",
     "delete_cmd_prefix": "rm(",
     "library": "var_list.r",
     "varRefreshCmd": "cat(var_dic_list()) "
    }
   },
   "types_to_exclude": [
    "module",
    "function",
    "builtin_function_or_method",
    "instance",
    "_Feature"
   ],
   "window_display": false
  }
 },
 "nbformat": 4,
 "nbformat_minor": 2
}
