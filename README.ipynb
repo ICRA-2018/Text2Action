{
 "cells": [
  {
   "cell_type": "markdown",
   "metadata": {},
   "source": [
    "# Text2Action\n",
    "\n",
    "* [test_GAN notebook](exec/test_GAN.ipynb)\n",
    "* [train_GAN notebook](exec/train_GAN.ipynb)\n",
    "* [train_seq2seq notebook](exec/train_seq2seq.ipynb)"
   ]
  }
 ],

 "metadata": {
  "kernelspec": {
   "display_name": "Bash",
   "language": "bash",
   "name": "bash"
  },
  "language_info": {
   "codemirror_mode": "shell",
   "file_extension": ".sh",
   "mimetype": "text/x-sh",
   "name": "bash"
  }
 },
 "nbformat": 4,
 "nbformat_minor": 2
}
